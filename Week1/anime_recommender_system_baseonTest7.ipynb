{
 "cells": [
  {
   "cell_type": "code",
   "execution_count": 8,
   "id": "74bca64b",
   "metadata": {},
   "outputs": [],
   "source": [
    "# Importing Libraries\n",
    "import numpy as np\n",
    "import pandas as pd\n",
    "import sklearn\n",
    "from sklearn.neighbors import NearestNeighbors\n",
    "import matplotlib.pyplot as plt\n",
    "import seaborn as sns\n",
    "import warnings\n",
    "warnings.simplefilter(action='ignore', category=FutureWarning)"
   ]
  },
  {
   "cell_type": "code",
   "execution_count": 2,
   "id": "afcfab10",
   "metadata": {},
   "outputs": [
    {
     "name": "stdout",
     "output_type": "stream",
     "text": [
      "   user_id  anime_id  rating\n",
      "0        1        20      -1\n",
      "1        1        24      -1\n",
      "2        1        79      -1\n",
      "3        1       226      -1\n",
      "4        1       241      -1\n"
     ]
    }
   ],
   "source": [
    "#loading rating dataset\n",
    "ratings = pd.read_csv(\"rating.csv\")\n",
    "print(ratings.head())"
   ]
  },
  {
   "cell_type": "code",
   "execution_count": 9,
   "id": "eaf38c26",
   "metadata": {},
   "outputs": [
    {
     "name": "stdout",
     "output_type": "stream",
     "text": [
      "   anime_id                              name  \\\n",
      "0     32281                    Kimi no Na wa.   \n",
      "1      5114  Fullmetal Alchemist: Brotherhood   \n",
      "2     28977                          Gintama°   \n",
      "3      9253                       Steins;Gate   \n",
      "4      9969                     Gintama&#039;   \n",
      "\n",
      "                                               genre   type episodes  rating  \\\n",
      "0               Drama, Romance, School, Supernatural  Movie        1    9.37   \n",
      "1  Action, Adventure, Drama, Fantasy, Magic, Mili...     TV       64    9.26   \n",
      "2  Action, Comedy, Historical, Parody, Samurai, S...     TV       51    9.25   \n",
      "3                                   Sci-Fi, Thriller     TV       24    9.17   \n",
      "4  Action, Comedy, Historical, Parody, Samurai, S...     TV       51    9.16   \n",
      "\n",
      "   members  \n",
      "0   200630  \n",
      "1   793665  \n",
      "2   114262  \n",
      "3   673572  \n",
      "4   151266  \n"
     ]
    }
   ],
   "source": [
    "# loading movie dataset\n",
    "animes = pd.read_csv(\"anime.csv\")\n",
    "print(animes.head())"
   ]
  },
  {
   "cell_type": "code",
   "execution_count": 10,
   "id": "f033d79e",
   "metadata": {},
   "outputs": [
    {
     "name": "stdout",
     "output_type": "stream",
     "text": [
      "Number of ratings: 7813737\n",
      "Number of unique anime_id's: 11200\n",
      "Number of unique users: 73515\n",
      "Average ratings per user: 106.29\n",
      "Average ratings per anime: 697.66\n"
     ]
    }
   ],
   "source": [
    "# Statistical Analysis of Ratings\n",
    "n_ratings = len(ratings)\n",
    "n_animes = len(ratings['anime_id'].unique())\n",
    "n_users = len(ratings['user_id'].unique())\n",
    " \n",
    "print(f\"Number of ratings: {n_ratings}\")\n",
    "print(f\"Number of unique anime_id's: {n_animes}\")\n",
    "print(f\"Number of unique users: {n_users}\")\n",
    "print(f\"Average ratings per user: {round(n_ratings/n_users, 2)}\")\n",
    "print(f\"Average ratings per anime: {round(n_ratings/n_animes, 2)}\")"
   ]
  },
  {
   "cell_type": "code",
   "execution_count": 12,
   "id": "c2ec476c",
   "metadata": {},
   "outputs": [
    {
     "name": "stdout",
     "output_type": "stream",
     "text": [
      "   user_id  n_ratings\n",
      "0        1        153\n",
      "1        2          3\n",
      "2        3         94\n",
      "3        4         52\n",
      "4        5        467\n"
     ]
    }
   ],
   "source": [
    "# User Rating Frequency\n",
    "user_freq = ratings[['user_id', 'anime_id']].groupby(\n",
    "    'user_id').count().reset_index()\n",
    "user_freq.columns = ['user_id', 'n_ratings']\n",
    "print(user_freq.head())"
   ]
  },
  {
   "cell_type": "code",
   "execution_count": 13,
   "id": "e73da2a3",
   "metadata": {},
   "outputs": [],
   "source": [
    "# Movie Rating Analysis\n",
    "# Find Lowest and Highest rated movies:\n",
    "mean_rating = ratings.groupby('anime_id')[['rating']].mean()\n",
    "# Lowest rated animes\n",
    "lowest_rated = mean_rating['rating'].idxmin()\n",
    "movies.loc[movies['anime_id'] == lowest_rated]\n",
    "# Highest rated animes\n",
    "highest_rated = mean_rating['rating'].idxmax()\n",
    "animes.loc[animes['anime_id'] == highest_rated]\n",
    "# show number of people who rated animes rated anime highest\n",
    "ratings[ratings['anime_id']==highest_rated]\n",
    "# show number of people who rated animes rated anime lowest\n",
    "ratings[ratings['anime_id']==lowest_rated]\n",
    " \n",
    "## the above animes has very low dataset. We will use bayesian average\n",
    "anime_stats = ratings.groupby('anime_id')[['rating']].agg(['count', 'mean'])\n",
    "anime_stats.columns = anime_stats.columns.droplevel()"
   ]
  },
  {
   "cell_type": "code",
   "execution_count": 14,
   "id": "f86fab91",
   "metadata": {},
   "outputs": [],
   "source": [
    "# User-Item Matrix Creation\n",
    "# Now, we create user-item matrix using scipy csr matrix\n",
    "from scipy.sparse import csr_matrix\n",
    " \n",
    "def create_matrix(df):\n",
    "     \n",
    "    N = len(df['user_id'].unique())\n",
    "    M = len(df['anime_id'].unique())\n",
    "     \n",
    "    # Map Ids to indices\n",
    "    user_mapper = dict(zip(np.unique(df[\"user_id\"]), list(range(N))))\n",
    "    anime_mapper = dict(zip(np.unique(df[\"anime_id\"]), list(range(M))))\n",
    "     \n",
    "    # Map indices to IDs\n",
    "    user_inv_mapper = dict(zip(list(range(N)), np.unique(df[\"user_id\"])))\n",
    "    anime_inv_mapper = dict(zip(list(range(M)), np.unique(df[\"anime_id\"])))\n",
    "     \n",
    "    user_index = [user_mapper[i] for i in df['user_id']]\n",
    "    anime_index = [anime_mapper[i] for i in df['anime_id']]\n",
    " \n",
    "    X = csr_matrix((df[\"rating\"], (anime_index, user_index)), shape=(M, N))\n",
    "     \n",
    "    return X, user_mapper, anime_mapper, user_inv_mapper, anime_inv_mapper\n",
    "     \n",
    "X, user_mapper, anime_mapper, user_inv_mapper, anime_inv_mapper = create_matrix(ratings)"
   ]
  },
  {
   "cell_type": "code",
   "execution_count": 17,
   "id": "c2c8118e",
   "metadata": {},
   "outputs": [
    {
     "ename": "KeyError",
     "evalue": "3",
     "output_type": "error",
     "traceback": [
      "\u001b[1;31m---------------------------------------------------------------------------\u001b[0m",
      "\u001b[1;31mKeyError\u001b[0m                                  Traceback (most recent call last)",
      "Cell \u001b[1;32mIn[17], line 27\u001b[0m\n\u001b[0;32m     23\u001b[0m anime_titles \u001b[38;5;241m=\u001b[39m \u001b[38;5;28mdict\u001b[39m(\u001b[38;5;28mzip\u001b[39m(animes[\u001b[38;5;124m'\u001b[39m\u001b[38;5;124manime_id\u001b[39m\u001b[38;5;124m'\u001b[39m], animes[\u001b[38;5;124m'\u001b[39m\u001b[38;5;124mname\u001b[39m\u001b[38;5;124m'\u001b[39m]))\n\u001b[0;32m     25\u001b[0m anime_id \u001b[38;5;241m=\u001b[39m \u001b[38;5;241m3\u001b[39m\n\u001b[1;32m---> 27\u001b[0m similar_ids \u001b[38;5;241m=\u001b[39m find_similar_animes(anime_id, X, k\u001b[38;5;241m=\u001b[39m\u001b[38;5;241m10\u001b[39m)\n\u001b[0;32m     28\u001b[0m anime_title \u001b[38;5;241m=\u001b[39m anime_titles[anime_id]\n\u001b[0;32m     30\u001b[0m \u001b[38;5;28mprint\u001b[39m(\u001b[38;5;124mf\u001b[39m\u001b[38;5;124m\"\u001b[39m\u001b[38;5;124mSince you watched \u001b[39m\u001b[38;5;132;01m{\u001b[39;00manime_title\u001b[38;5;132;01m}\u001b[39;00m\u001b[38;5;124m\"\u001b[39m)\n",
      "Cell \u001b[1;32mIn[17], line 9\u001b[0m, in \u001b[0;36mfind_similar_animes\u001b[1;34m(anime_id, X, k, metric, show_distance)\u001b[0m\n\u001b[0;32m      5\u001b[0m \u001b[38;5;28;01mdef\u001b[39;00m \u001b[38;5;21mfind_similar_animes\u001b[39m(anime_id, X, k, metric\u001b[38;5;241m=\u001b[39m\u001b[38;5;124m'\u001b[39m\u001b[38;5;124mcosine\u001b[39m\u001b[38;5;124m'\u001b[39m, show_distance\u001b[38;5;241m=\u001b[39m\u001b[38;5;28;01mFalse\u001b[39;00m):\n\u001b[0;32m      7\u001b[0m     neighbour_ids \u001b[38;5;241m=\u001b[39m []\n\u001b[1;32m----> 9\u001b[0m     anime_ind \u001b[38;5;241m=\u001b[39m anime_mapper[anime_id]\n\u001b[0;32m     10\u001b[0m     anime_vec \u001b[38;5;241m=\u001b[39m X[anime_ind]\n\u001b[0;32m     11\u001b[0m     k\u001b[38;5;241m+\u001b[39m\u001b[38;5;241m=\u001b[39m\u001b[38;5;241m1\u001b[39m\n",
      "\u001b[1;31mKeyError\u001b[0m: 3"
     ]
    }
   ],
   "source": [
    "# Movie Similarity Analysis\n",
    "\"\"\"\n",
    "Find similar animes using KNN\n",
    "\"\"\"\n",
    "def find_similar_animes(anime_id, X, k, metric='cosine', show_distance=False):\n",
    "     \n",
    "    neighbour_ids = []\n",
    "     \n",
    "    anime_ind = anime_mapper[anime_id]\n",
    "    anime_vec = X[anime_ind]\n",
    "    k+=1\n",
    "    kNN = NearestNeighbors(n_neighbors=k, algorithm=\"brute\", metric=metric)\n",
    "    kNN.fit(X)\n",
    "    anime_vec = anime_vec.reshape(1,-1)\n",
    "    neighbour = kNN.kneighbors(anime_vec, return_distance=show_distance)\n",
    "    for i in range(0,k):\n",
    "        n = neighbour.item(i)\n",
    "        neighbour_ids.append(anime_inv_mapper[n])\n",
    "    neighbour_ids.pop(0)\n",
    "    return neighbour_ids\n",
    " \n",
    " \n",
    "anime_titles = dict(zip(animes['anime_id'], animes['name']))\n",
    " \n",
    "anime_id = 3\n",
    " \n",
    "similar_ids = find_similar_animes(anime_id, X, k=10)\n",
    "anime_title = anime_titles[anime_id]\n",
    " \n",
    "print(f\"Since you watched {anime_title}\")\n",
    "for i in similar_ids:\n",
    "    print(anime_titles[i])"
   ]
  },
  {
   "cell_type": "code",
   "execution_count": 23,
   "id": "5ed36606",
   "metadata": {},
   "outputs": [],
   "source": [
    "# Movie Recommendation with respect to Users Preference\n",
    "def recommend_animes_for_user(user_id, X, user_mapper, anime_mapper, anime_inv_mapper, k=10):\n",
    "    df1 = ratings[ratings['user_id'] == user_id]\n",
    "     \n",
    "    if df1.empty:\n",
    "        print(f\"User with ID {user_id} does not exist.\")\n",
    "        return\n",
    " \n",
    "    anime_id = df1[df1['rating'] == max(df1['rating'])]['anime_id'].iloc[0]\n",
    " \n",
    "    anime_titles = dict(zip(animes['anime_id'], animes['name']))\n",
    " \n",
    "    similar_ids = find_similar_movies(anime_id, X, k)\n",
    "    anime_title = anime_titles.get(anime_id, \"Movie not found\")\n",
    " \n",
    "    if anime_title == \"Movie not found\":\n",
    "        print(f\"Movie with ID {anime_id} not found.\")\n",
    "        return\n",
    " \n",
    "    print(f\"Since you watched {anime_title}, you might also like:\")\n",
    "    for i in similar_ids:\n",
    "        print(anime_titles.get(i, \"Anime not found\"))"
   ]
  },
  {
   "cell_type": "code",
   "execution_count": 24,
   "id": "914894ed",
   "metadata": {},
   "outputs": [
    {
     "name": "stdout",
     "output_type": "stream",
     "text": [
      "Since you watched InuYasha, you might also like:\n",
      "InuYasha: Kanketsu-hen\n",
      "InuYasha: Kagami no Naka no Mugenjo\n",
      "InuYasha: Guren no Houraijima\n",
      "InuYasha: Toki wo Koeru Omoi\n",
      "InuYasha: Tenka Hadou no Ken\n",
      "Fullmetal Alchemist\n",
      "Yuu☆Yuu☆Hakusho\n",
      "Rurouni Kenshin: Meiji Kenkaku Romantan\n",
      "Dragon Ball Z\n",
      "Naruto\n"
     ]
    }
   ],
   "source": [
    "# Reccomment the movies\n",
    "user_id = 20  # Replace with the desired user ID\n",
    "recommend_animes_for_user(user_id, X, user_mapper, anime_mapper, anime_inv_mapper, k=10)"
   ]
  },
  {
   "cell_type": "code",
   "execution_count": 25,
   "id": "c2f57241",
   "metadata": {},
   "outputs": [
    {
     "name": "stdout",
     "output_type": "stream",
     "text": [
      "Since you watched Mononoke Hime, you might also like:\n",
      "Sen to Chihiro no Kamikakushi\n",
      "Howl no Ugoku Shiro\n",
      "Tonari no Totoro\n",
      "Kaze no Tani no Nausicaä\n",
      "Tenkuu no Shiro Laputa\n",
      "Majo no Takkyuubin\n",
      "Hotaru no Haka\n",
      "Toki wo Kakeru Shoujo\n",
      "Gake no Ue no Ponyo\n",
      "Akira\n"
     ]
    }
   ],
   "source": [
    "user_id = 79  # Replace with the desired user ID\n",
    "recommend_animes_for_user(user_id, X, user_mapper, anime_mapper, anime_inv_mapper, k=10)"
   ]
  },
  {
   "cell_type": "code",
   "execution_count": 26,
   "id": "30663aab",
   "metadata": {},
   "outputs": [
    {
     "name": "stdout",
     "output_type": "stream",
     "text": [
      "Since you watched Highschool of the Dead, you might also like:\n",
      "Sword Art Online\n",
      "Angel Beats!\n",
      "High School DxD\n",
      "Highschool of the Dead: Drifters of the Dead\n",
      "Mirai Nikki (TV)\n",
      "Deadman Wonderland\n",
      "Elfen Lied\n",
      "Shingeki no Kyojin\n",
      "Death Note\n",
      "Kore wa Zombie Desu ka?\n"
     ]
    }
   ],
   "source": [
    "user_id = 1  # Replace with the desired user ID\n",
    "recommend_animes_for_user(user_id, X, user_mapper, anime_mapper, anime_inv_mapper, k=10)"
   ]
  },
  {
   "cell_type": "code",
   "execution_count": 27,
   "id": "9025c308",
   "metadata": {},
   "outputs": [
    {
     "name": "stdout",
     "output_type": "stream",
     "text": [
      "Since you watched Kuroko no Basket, you might also like:\n",
      "Kuroko no Basket 2nd Season\n",
      "Kuroko no Basket 3rd Season\n",
      "Haikyuu!!\n",
      "Shingeki no Kyojin\n",
      "Ao no Exorcist\n",
      "Sword Art Online\n",
      "Free!\n",
      "Noragami\n",
      "Tokyo Ghoul\n",
      "Magi: The Labyrinth of Magic\n"
     ]
    }
   ],
   "source": [
    "user_id = 2  # Replace with the desired user ID\n",
    "recommend_animes_for_user(user_id, X, user_mapper, anime_mapper, anime_inv_mapper, k=10)"
   ]
  },
  {
   "cell_type": "code",
   "execution_count": 30,
   "id": "f5ecaa41",
   "metadata": {},
   "outputs": [
    {
     "name": "stdout",
     "output_type": "stream",
     "text": [
      "User with ID 6376242367777856372 does not exist.\n"
     ]
    }
   ],
   "source": [
    "user_id = 6376242367777856372  # Replace with the desired user ID\n",
    "recommend_animes_for_user(user_id, X, user_mapper, anime_mapper, anime_inv_mapper, k=10)"
   ]
  },
  {
   "cell_type": "code",
   "execution_count": null,
   "id": "30139456",
   "metadata": {},
   "outputs": [],
   "source": []
  }
 ],
 "metadata": {
  "kernelspec": {
   "display_name": "Python 3 (ipykernel)",
   "language": "python",
   "name": "python3"
  },
  "language_info": {
   "codemirror_mode": {
    "name": "ipython",
    "version": 3
   },
   "file_extension": ".py",
   "mimetype": "text/x-python",
   "name": "python",
   "nbconvert_exporter": "python",
   "pygments_lexer": "ipython3",
   "version": "3.11.5"
  }
 },
 "nbformat": 4,
 "nbformat_minor": 5
}
